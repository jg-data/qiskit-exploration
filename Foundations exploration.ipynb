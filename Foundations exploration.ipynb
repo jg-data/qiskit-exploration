{
 "cells": [
  {
   "cell_type": "markdown",
   "id": "5e5dff8c-0b33-4e0e-8bf7-6b0c786395e2",
   "metadata": {},
   "source": [
    "# I: Basics of quantum information"
   ]
  },
  {
   "cell_type": "markdown",
   "id": "2b359902-276f-4715-a0e6-ccb3505c18f8",
   "metadata": {},
   "source": [
    "Testing out and playing with basic operations in Qiskit, following IBM course in title."
   ]
  },
  {
   "cell_type": "markdown",
   "id": "c8dd5b65-7eb8-496a-8a54-1c7a1c532d62",
   "metadata": {},
   "source": [
    "### Basic setup and playing with single systems"
   ]
  },
  {
   "cell_type": "code",
   "execution_count": 1,
   "id": "4d1ec4b3-60d9-42a7-8a07-ff7731abe60e",
   "metadata": {},
   "outputs": [],
   "source": [
    "from qiskit import __version__"
   ]
  },
  {
   "cell_type": "code",
   "execution_count": 2,
   "id": "cd4e15ad-555d-4cd2-afc5-b954c570dadc",
   "metadata": {},
   "outputs": [
    {
     "name": "stdout",
     "output_type": "stream",
     "text": [
      "2.2.1\n"
     ]
    }
   ],
   "source": [
    "print(__version__)"
   ]
  },
  {
   "cell_type": "code",
   "execution_count": 3,
   "id": "d8a22773-da2c-4ac7-be09-44cfe541b544",
   "metadata": {},
   "outputs": [],
   "source": [
    "import numpy as np"
   ]
  },
  {
   "cell_type": "code",
   "execution_count": 4,
   "id": "f67c65f1-62d7-48d1-a86d-aa899a37cf0d",
   "metadata": {},
   "outputs": [],
   "source": [
    "from qiskit.quantum_info import Statevector"
   ]
  },
  {
   "cell_type": "code",
   "execution_count": 5,
   "id": "cdfc3555-6e06-4f34-8662-bc758f13d3e8",
   "metadata": {},
   "outputs": [],
   "source": [
    "u = Statevector( [1,1]/np.sqrt(2) )"
   ]
  },
  {
   "cell_type": "code",
   "execution_count": 6,
   "id": "f9d14cff-0e88-496c-a36c-d57495c41ab7",
   "metadata": {},
   "outputs": [
    {
     "data": {
      "text/latex": [
       "$$\\frac{\\sqrt{2}}{2} |0\\rangle+\\frac{\\sqrt{2}}{2} |1\\rangle$$"
      ],
      "text/plain": [
       "<IPython.core.display.Latex object>"
      ]
     },
     "metadata": {},
     "output_type": "display_data"
    }
   ],
   "source": [
    "display(u.draw(\"latex\"))"
   ]
  },
  {
   "cell_type": "markdown",
   "id": "d1f09c58-9544-4ceb-b0ab-4f36145f75f6",
   "metadata": {},
   "source": [
    "Try a measurement, then try lots of measurements"
   ]
  },
  {
   "cell_type": "code",
   "execution_count": 7,
   "id": "097bb04d-9e55-4d07-aca6-a262aedf1504",
   "metadata": {},
   "outputs": [
    {
     "name": "stdout",
     "output_type": "stream",
     "text": [
      "Measured result:  0\n",
      "State collapses to:\n"
     ]
    },
    {
     "data": {
      "text/latex": [
       "$$ |0\\rangle$$"
      ],
      "text/plain": [
       "<IPython.core.display.Latex object>"
      ]
     },
     "metadata": {},
     "output_type": "display_data"
    }
   ],
   "source": [
    "outcome, state = u.measure()\n",
    "print(\"Measured result: \",outcome)\n",
    "print(\"State collapses to:\")\n",
    "display(state.draw(\"latex\"))"
   ]
  },
  {
   "cell_type": "code",
   "execution_count": 8,
   "id": "28cc6ad2-07bd-404b-a305-72757f808711",
   "metadata": {},
   "outputs": [
    {
     "data": {
      "image/png": "[encoded data removed]",
      "text/plain": [
       "<Figure size 640x480 with 1 Axes>"
      ]
     },
     "execution_count": 8,
     "metadata": {},
     "output_type": "execute_result"
    }
   ],
   "source": [
    "from qiskit.visualization import plot_histogram\n",
    "\n",
    "stats = u.sample_counts(1000)\n",
    "plot_histogram(stats)\n"
   ]
  },
  {
   "cell_type": "markdown",
   "id": "324df109-5a4f-4750-b048-bb56e647a89b",
   "metadata": {},
   "source": [
    "### Multi-qubit exploration"
   ]
  },
  {
   "cell_type": "code",
   "execution_count": 9,
   "id": "4c47e343-7584-4265-a910-aa10fe2b4460",
   "metadata": {},
   "outputs": [],
   "source": [
    "from qiskit.quantum_info import Operator"
   ]
  },
  {
   "cell_type": "code",
   "execution_count": 10,
   "id": "e5bc0bad-4f44-463c-ba51-7ff3d20dbd26",
   "metadata": {},
   "outputs": [
    {
     "data": {
      "text/latex": [
       "$$ |01\\rangle$$"
      ],
      "text/plain": [
       "<IPython.core.display.Latex object>"
      ]
     },
     "metadata": {},
     "output_type": "display_data"
    }
   ],
   "source": [
    "zero = Statevector.from_label(\"0\")\n",
    "one = Statevector.from_label(\"1\")\n",
    "psi = zero ^ one\n",
    "display(psi.draw(\"latex\"))"
   ]
  },
  {
   "cell_type": "code",
   "execution_count": 11,
   "id": "45a3ecba-03af-4e0d-b395-2914084a7386",
   "metadata": {},
   "outputs": [
    {
     "data": {
      "text/latex": [
       "$$\\frac{\\sqrt{2}}{2} |0\\rangle+\\frac{\\sqrt{2}}{2} |1\\rangle$$"
      ],
      "text/plain": [
       "<IPython.core.display.Latex object>"
      ]
     },
     "metadata": {},
     "output_type": "display_data"
    },
    {
     "data": {
      "text/latex": [
       "$$\\frac{\\sqrt{2}}{2} |0\\rangle- \\frac{\\sqrt{2}}{2} |1\\rangle$$"
      ],
      "text/plain": [
       "<IPython.core.display.Latex object>"
      ]
     },
     "metadata": {},
     "output_type": "display_data"
    }
   ],
   "source": [
    "plus = Statevector.from_label(\"+\")\n",
    "display(plus.draw(\"latex\"))\n",
    "minus = Statevector.from_label(\"-\")\n",
    "display(minus.draw(\"latex\"))\n"
   ]
  },
  {
   "cell_type": "code",
   "execution_count": 12,
   "id": "bd48c00e-b080-48b7-a196-ca8b2b353682",
   "metadata": {},
   "outputs": [
    {
     "data": {
      "text/latex": [
       "$$\\frac{\\sqrt{2}}{2} |01\\rangle+\\frac{\\sqrt{2}}{2} |11\\rangle$$"
      ],
      "text/plain": [
       "<IPython.core.display.Latex object>"
      ]
     },
     "metadata": {},
     "output_type": "display_data"
    }
   ],
   "source": [
    "display((plus^one).draw(\"latex\"))"
   ]
  },
  {
   "cell_type": "code",
   "execution_count": 13,
   "id": "93937901-f31d-4a0c-a2b9-9df56a5e71e9",
   "metadata": {},
   "outputs": [
    {
     "data": {
      "text/latex": [
       "$$\n",
       "\n",
       "\\begin{bmatrix}\n",
       "\\frac{\\sqrt{2}}{2} & \\frac{\\sqrt{2}}{2}  \\\\\n",
       " \\frac{\\sqrt{2}}{2} & - \\frac{\\sqrt{2}}{2}  \\\\\n",
       " \\end{bmatrix}\n",
       "$$"
      ],
      "text/plain": [
       "<IPython.core.display.Latex object>"
      ]
     },
     "metadata": {},
     "output_type": "display_data"
    }
   ],
   "source": [
    "H = Operator.from_label(\"H\")\n",
    "display(H.draw(\"latex\"))"
   ]
  },
  {
   "cell_type": "code",
   "execution_count": 14,
   "id": "1f6eb75b-2977-4d98-ab7c-241400c42c53",
   "metadata": {},
   "outputs": [
    {
     "data": {
      "text/latex": [
       "$$\n",
       "\n",
       "\\begin{bmatrix}\n",
       "0 & 1 & 0 & 0  \\\\\n",
       " 1 & 0 & 0 & 0  \\\\\n",
       " 0 & 0 & 0 & 1  \\\\\n",
       " 0 & 0 & 1 & 0  \\\\\n",
       " \\end{bmatrix}\n",
       "$$"
      ],
      "text/plain": [
       "<IPython.core.display.Latex object>"
      ]
     },
     "metadata": {},
     "output_type": "display_data"
    },
    {
     "data": {
      "text/latex": [
       "$$\n",
       "\n",
       "\\begin{bmatrix}\n",
       "0 & 0 & 1 & 0  \\\\\n",
       " 0 & 0 & 0 & 1  \\\\\n",
       " 1 & 0 & 0 & 0  \\\\\n",
       " 0 & 1 & 0 & 0  \\\\\n",
       " \\end{bmatrix}\n",
       "$$"
      ],
      "text/plain": [
       "<IPython.core.display.Latex object>"
      ]
     },
     "metadata": {},
     "output_type": "display_data"
    }
   ],
   "source": [
    "I = Operator.from_label(\"I\")\n",
    "X = Operator.from_label(\"X\")\n",
    "display((I^X).draw(\"latex\"))\n",
    "display((X^I).draw(\"latex\"))"
   ]
  },
  {
   "cell_type": "markdown",
   "id": "6719c207-5e08-4456-ae32-6f708993b55d",
   "metadata": {},
   "source": [
    "Recall our standard ordered basis for 2 qubits is:\n",
    "$$ |00\\rangle, \\;\\; |01\\rangle, \\;\\; |10\\rangle, \\;\\; |11\\rangle $$\n",
    "So the first matrix above swaps\n",
    "$$ |00\\rangle \\leftrightarrow |01\\rangle, \\;\\;\\;\\; |10\\rangle \\leftrightarrow |11\\rangle $$\n",
    "which is NOT on leftmost qubit, as expected.\n",
    "\n",
    "Similarly, the second matrix swaps\n",
    "$$ |00\\rangle \\leftrightarrow |10\\rangle, \\;\\;\\;\\; |01\\rangle \\leftrightarrow |11\\rangle $$\n",
    "which is NOT on rightmost qubit.\n",
    "\n",
    "We see below how Hadamard operator is spread across the qubits if we tensor with identity on left/right.\n"
   ]
  },
  {
   "cell_type": "code",
   "execution_count": 15,
   "id": "d434af51-6581-46a0-8fa2-3ed049ca4cb7",
   "metadata": {},
   "outputs": [
    {
     "data": {
      "text/latex": [
       "$$\n",
       "\n",
       "\\begin{bmatrix}\n",
       "\\frac{\\sqrt{2}}{2} & \\frac{\\sqrt{2}}{2} & 0 & 0  \\\\\n",
       " \\frac{\\sqrt{2}}{2} & - \\frac{\\sqrt{2}}{2} & 0 & 0  \\\\\n",
       " 0 & 0 & \\frac{\\sqrt{2}}{2} & \\frac{\\sqrt{2}}{2}  \\\\\n",
       " 0 & 0 & \\frac{\\sqrt{2}}{2} & - \\frac{\\sqrt{2}}{2}  \\\\\n",
       " \\end{bmatrix}\n",
       "$$"
      ],
      "text/plain": [
       "<IPython.core.display.Latex object>"
      ]
     },
     "metadata": {},
     "output_type": "display_data"
    },
    {
     "data": {
      "text/latex": [
       "$$\n",
       "\n",
       "\\begin{bmatrix}\n",
       "\\frac{\\sqrt{2}}{2} & 0 & \\frac{\\sqrt{2}}{2} & 0  \\\\\n",
       " 0 & \\frac{\\sqrt{2}}{2} & 0 & \\frac{\\sqrt{2}}{2}  \\\\\n",
       " \\frac{\\sqrt{2}}{2} & 0 & - \\frac{\\sqrt{2}}{2} & 0  \\\\\n",
       " 0 & \\frac{\\sqrt{2}}{2} & 0 & - \\frac{\\sqrt{2}}{2}  \\\\\n",
       " \\end{bmatrix}\n",
       "$$"
      ],
      "text/plain": [
       "<IPython.core.display.Latex object>"
      ]
     },
     "metadata": {},
     "output_type": "display_data"
    }
   ],
   "source": [
    "display((I^H).draw(\"latex\"))\n",
    "display((H^I).draw(\"latex\"))"
   ]
  },
  {
   "cell_type": "markdown",
   "id": "c8f20a8c-6e7d-40a7-a0bb-dde49c2baa47",
   "metadata": {},
   "source": [
    "So $H\\otimes Id$ should send (plus^one) to (zero^one).  Check:"
   ]
  },
  {
   "cell_type": "code",
   "execution_count": 16,
   "id": "ef6aefff-bd7d-405a-b383-03f0e1317e55",
   "metadata": {},
   "outputs": [
    {
     "data": {
      "text/latex": [
       "$$ |01\\rangle$$"
      ],
      "text/plain": [
       "<IPython.core.display.Latex object>"
      ]
     },
     "metadata": {},
     "output_type": "display_data"
    }
   ],
   "source": [
    "display((plus^one).evolve(H^I).draw(\"latex\"))"
   ]
  },
  {
   "cell_type": "markdown",
   "id": "7e3ed20f-59ef-4f4f-af25-069012b2a23c",
   "metadata": {},
   "source": [
    "### Let's play with circuits.  \n",
    "We know the Hadamard operator is self inverse:\n",
    "$$ |0\\rangle \\mapsto |+\\rangle \\mapsto |0\\rangle, \\;\\;\\;\\; |1\\rangle \\mapsto |-\\rangle \\mapsto |1\\rangle. $$\n",
    "We can check this explicitly."
   ]
  },
  {
   "cell_type": "code",
   "execution_count": 17,
   "id": "5073bfc4-5196-4627-973c-5fc95439d624",
   "metadata": {},
   "outputs": [
    {
     "data": {
      "image/png": "[encoded data removed]",
      "text/plain": [
       "<Figure size 269.064x117.056 with 1 Axes>"
      ]
     },
     "metadata": {},
     "output_type": "display_data"
    },
    {
     "data": {
      "text/latex": [
       "$$\n",
       "\n",
       "\\begin{bmatrix}\n",
       "1 & 0  \\\\\n",
       " 0 & 1  \\\\\n",
       " \\end{bmatrix}\n",
       "$$"
      ],
      "text/plain": [
       "<IPython.core.display.Latex object>"
      ]
     },
     "metadata": {},
     "output_type": "display_data"
    }
   ],
   "source": [
    "from qiskit import QuantumCircuit\n",
    "\n",
    "circuit = QuantumCircuit(1)\n",
    "\n",
    "circuit.h(0)\n",
    "circuit.h(0)\n",
    "\n",
    "display(circuit.draw(output=\"mpl\"))\n",
    "display(Operator.from_circuit(circuit).draw(\"latex\"))"
   ]
  },
  {
   "cell_type": "markdown",
   "id": "91161ef3-6367-4de5-9e2f-bde091bac077",
   "metadata": {},
   "source": [
    "### Partial measurements of state"
   ]
  },
  {
   "cell_type": "code",
   "execution_count": 18,
   "id": "27fd30f3-1c71-4e03-b417-3fa056d15240",
   "metadata": {},
   "outputs": [
    {
     "data": {
      "text/latex": [
       "$$\\frac{\\sqrt{6}}{6} |001\\rangle+\\frac{\\sqrt{3}}{3} |010\\rangle+\\frac{\\sqrt{2}}{2} |100\\rangle$$"
      ],
      "text/plain": [
       "<IPython.core.display.Latex object>"
      ]
     },
     "metadata": {},
     "output_type": "display_data"
    },
    {
     "name": "stdout",
     "output_type": "stream",
     "text": [
      "Result of first (rightmost) measurement: 0\n",
      "New state:\n"
     ]
    },
    {
     "data": {
      "text/latex": [
       "$$\\frac{\\sqrt{10}}{5} |010\\rangle+\\frac{\\sqrt{15}}{5} |100\\rangle$$"
      ],
      "text/plain": [
       "<IPython.core.display.Latex object>"
      ]
     },
     "metadata": {},
     "output_type": "display_data"
    },
    {
     "name": "stdout",
     "output_type": "stream",
     "text": [
      "Result of second (middle) measurement: 1\n",
      "New state:\n"
     ]
    },
    {
     "data": {
      "text/latex": [
       "$$ |010\\rangle$$"
      ],
      "text/plain": [
       "<IPython.core.display.Latex object>"
      ]
     },
     "metadata": {},
     "output_type": "display_data"
    }
   ],
   "source": [
    "#Modified from example to work with different amplitudes\n",
    "\n",
    "#Prepare 3 qubit state\n",
    "v = (Statevector([0, 1, 0, 0, 0, 0, 0, 0]) / np.sqrt(6) \n",
    "     + Statevector([0, 0, 1, 0, 0, 0, 0, 0])/ np.sqrt(3)\n",
    "     + Statevector([0, 0, 0, 0, 1, 0, 0, 0])/ np.sqrt(2)\n",
    "    )\n",
    "display(v.draw(\"latex\"))\n",
    "\n",
    "\n",
    "#Measure first (rightmost!) qubit\n",
    "vresult1, vnew1 = v.measure([0])\n",
    "print(\"Result of first (rightmost) measurement:\",vresult1)\n",
    "print(\"New state:\")\n",
    "display(vnew1.draw(\"latex\"))\n",
    "\n",
    "#Measure second (middle!) qubit\n",
    "vresult2, vnew2 = vnew1.measure([1])\n",
    "print(\"Result of second (middle) measurement:\",vresult2)\n",
    "print(\"New state:\")\n",
    "display(vnew2.draw(\"latex\"))\n",
    "\n"
   ]
  },
  {
   "cell_type": "markdown",
   "id": "0eba0edd-e817-4be6-bc3d-9ce712a4d217",
   "metadata": {},
   "source": [
    "### Check HSH is square root of X (not gate) using circuits\n"
   ]
  },
  {
   "cell_type": "code",
   "execution_count": 19,
   "id": "f06edeb6-2172-4ddb-b3e7-198858b14a59",
   "metadata": {},
   "outputs": [
    {
     "data": {
      "image/png": "[encoded data removed]",
      "text/plain": [
       "<Figure size 352.675x117.056 with 1 Axes>"
      ]
     },
     "metadata": {},
     "output_type": "display_data"
    },
    {
     "data": {
      "text/latex": [
       "$$\n",
       "\n",
       "\\begin{bmatrix}\n",
       "\\frac{1}{2} + \\frac{i}{2} & \\frac{1}{2} - \\frac{i}{2}  \\\\\n",
       " \\frac{1}{2} - \\frac{i}{2} & \\frac{1}{2} + \\frac{i}{2}  \\\\\n",
       " \\end{bmatrix}\n",
       "$$"
      ],
      "text/plain": [
       "<IPython.core.display.Latex object>"
      ]
     },
     "metadata": {},
     "output_type": "display_data"
    },
    {
     "data": {
      "image/png": "[encoded data removed]",
      "text/plain": [
       "<Figure size 603.508x117.056 with 1 Axes>"
      ]
     },
     "metadata": {},
     "output_type": "display_data"
    },
    {
     "data": {
      "text/latex": [
       "$$\n",
       "\n",
       "\\begin{bmatrix}\n",
       "0 & 1  \\\\\n",
       " 1 & 0  \\\\\n",
       " \\end{bmatrix}\n",
       "$$"
      ],
      "text/plain": [
       "<IPython.core.display.Latex object>"
      ]
     },
     "metadata": {},
     "output_type": "display_data"
    }
   ],
   "source": [
    "\n",
    "HSH = QuantumCircuit(1)\n",
    "\n",
    "HSH.h(0)\n",
    "HSH.s(0)\n",
    "HSH.h(0)\n",
    "\n",
    "display(HSH.draw(output=\"mpl\"))\n",
    "display(Operator.from_circuit(HSH).draw(\"latex\"))\n",
    "\n",
    "HSH2 = HSH.compose(HSH)\n",
    "\n",
    "display(HSH2.draw(output=\"mpl\"))\n",
    "display(Operator.from_circuit(HSH2).draw(\"latex\"))\n",
    "\n"
   ]
  },
  {
   "cell_type": "markdown",
   "id": "e8c005fd-2b6a-42cf-91ce-2d11a402426d",
   "metadata": {},
   "source": [
    "\n",
    "Note $H$ is self-inverse, so we can simplify the second circuit by removing both middle $H$'s\n",
    "\n",
    "Then we have two $S$ gates in succession, so $|1\\rangle$ is multiplied by $i^2=-1$.\n",
    "So replace both $S$ gates by a single $Z$ gate\n",
    "\n"
   ]
  },
  {
   "cell_type": "code",
   "execution_count": 20,
   "id": "c4858ce1-af31-407e-83e2-8f432b030976",
   "metadata": {},
   "outputs": [
    {
     "data": {
      "image/png": "[encoded data removed]",
      "text/plain": [
       "<Figure size 352.675x117.056 with 1 Axes>"
      ]
     },
     "metadata": {},
     "output_type": "display_data"
    },
    {
     "data": {
      "text/latex": [
       "$$\n",
       "\n",
       "\\begin{bmatrix}\n",
       "0 & 1  \\\\\n",
       " 1 & 0  \\\\\n",
       " \\end{bmatrix}\n",
       "$$"
      ],
      "text/plain": [
       "<IPython.core.display.Latex object>"
      ]
     },
     "metadata": {},
     "output_type": "display_data"
    }
   ],
   "source": [
    "c2 = QuantumCircuit(1)\n",
    "\n",
    "c2.h(0)\n",
    "c2.z(0)\n",
    "c2.h(0)\n",
    "\n",
    "display(c2.draw(output=\"mpl\"))\n",
    "display(Operator.from_circuit(c2).draw(\"latex\"))\n"
   ]
  },
  {
   "cell_type": "markdown",
   "id": "ebec63cc-0520-42cd-ae1f-c546dbaa8455",
   "metadata": {},
   "source": [
    "### Teleportation\n",
    "\n",
    "Code up the circuit for practice.\n"
   ]
  },
  {
   "cell_type": "code",
   "execution_count": 21,
   "id": "04b6ea64-f2be-40a0-ac58-420438e3c909",
   "metadata": {},
   "outputs": [
    {
     "data": {
      "image/png": "[encoded data removed]",
      "text/plain": [
       "<Figure size 1037.59x535.111 with 1 Axes>"
      ]
     },
     "metadata": {},
     "output_type": "display_data"
    }
   ],
   "source": [
    "from qiskit import QuantumRegister, ClassicalRegister\n",
    "\n",
    "message = QuantumRegister(1, 'Q')\n",
    "alice = QuantumRegister(1, 'A')\n",
    "bob = QuantumRegister(1, 'B')\n",
    "c1 = ClassicalRegister(1, 'c1')\n",
    "c2 = ClassicalRegister(1, 'c2')\n",
    "\n",
    "# Add c3 for measurement later\n",
    "c3 = ClassicalRegister(1, 'c3')\n",
    "\n",
    "qTelep = QuantumCircuit(message, alice, bob, c1, c2, c3)\n",
    "\n",
    "# Set up entangled Bell state shared between Alice and Bob\n",
    "# Idea: |00>, apply 1^H to get |0+> = (|00>+|01>)/sqrt(2)\n",
    "#             apply CNOT(A,B) to get  (|00>+|11>)/sqrt(2) = |phi^+>\n",
    "qTelep.h(alice)\n",
    "qTelep.cx(alice, bob)\n",
    "qTelep.barrier()\n",
    "\n",
    "# Alice applies CNOT(Q,A), then H(Q)\n",
    "qTelep.cx(message,alice)\n",
    "qTelep.h(message)\n",
    "\n",
    "# Alice measures both qubits and sends results to Bob as classical bits\n",
    "qTelep.measure(alice,c1)\n",
    "qTelep.measure(message,c2)\n",
    "qTelep.barrier()\n",
    "\n",
    "# Bob applies controlled not and controlled Z, using c1 and c2 as controls\n",
    "with qTelep.if_test((c1,1)):\n",
    "    qTelep.x(bob)\n",
    "with qTelep.if_test((c2,1)):\n",
    "    qTelep.z(bob)\n",
    "\n",
    "display(qTelep.draw(output=\"mpl\"))\n"
   ]
  },
  {
   "cell_type": "markdown",
   "id": "25d1c9ce-e193-486d-8b22-62b0ae03d31e",
   "metadata": {},
   "source": [
    "In the lesson, they test this by using a random unitary operator to prepare an intial state, then applying the inverse later and checking you get the zero state.\n",
    "\n",
    "I want to do something more basic: choose a qubit with interesting coefficients, then measure multiple times and see if we get the expected distribution.\n",
    "\n",
    "Playing around on paper, I try applying $H$ then $T$ then $H$.  This gives:\n",
    "$$ |0\\rangle \\mapsto\n",
    "\\frac1{\\sqrt2}|0\\rangle +\\frac1{\\sqrt2}|1\\rangle  \\mapsto\n",
    "\\frac1{\\sqrt2}|0\\rangle +\\frac{\\omega_8}{\\sqrt2}|1\\rangle  \\mapsto\n",
    "\\frac{1+\\omega_8}2|0\\rangle +\\frac{1-\\omega_8}2|1\\rangle$$\n",
    "where $\\omega_8=(1+i)/\\sqrt{2}$.\n",
    "\n",
    "Now\n",
    "$$ \\left| \\frac{1+\\omega_8}2\\right|^2=\\frac{2+\\sqrt2}4=\\cos^2\\frac\\pi8\\approx 0.85$$\n",
    "and\n",
    "$$ \\left| \\frac{1-\\omega_8}2\\right|^2=\\frac{2-\\sqrt2}4=\\sin^2\\frac\\pi8\\approx 0.15$$\n",
    "\n",
    "So if we prepare the message by applying $H,T,H$ and measure the outcome, we expect to get:\n",
    " - 0 about 85% of the time;\n",
    " - 1 about 15% of the time.\n"
   ]
  },
  {
   "cell_type": "code",
   "execution_count": 22,
   "id": "0aae3d32-de3e-4216-9979-430e4110e1c2",
   "metadata": {},
   "outputs": [
    {
     "data": {
      "image/png": "[encoded data removed]",
      "text/plain": [
       "<Figure size 1204.81x535.111 with 1 Axes>"
      ]
     },
     "metadata": {},
     "output_type": "display_data"
    }
   ],
   "source": [
    "#Prepare the message\n",
    "prep = QuantumCircuit(message, alice, bob, c1, c2, c3)\n",
    "\n",
    "prep.h(message)\n",
    "prep.t(message)\n",
    "prep.h(message)\n",
    "\n",
    "#Measure Bob's result\n",
    "measBob = QuantumCircuit(message, alice, bob, c1, c2, c3)\n",
    "measBob.measure(bob,c3)\n",
    "\n",
    "#Compose prep with teleport\n",
    "qTelepPi8 = prep.compose(qTelep)\n",
    "qTelepPi8 = qTelepPi8.compose(measBob)\n",
    "\n",
    "display(qTelepPi8.draw(output=\"mpl\"))\n"
   ]
  },
  {
   "cell_type": "code",
   "execution_count": 23,
   "id": "29c5f868-dc39-45cc-8bfb-ebd035db9ce1",
   "metadata": {},
   "outputs": [
    {
     "data": {
      "image/png": "[encoded data removed]",
      "text/plain": [
       "<Figure size 640x480 with 1 Axes>"
      ]
     },
     "metadata": {},
     "output_type": "display_data"
    }
   ],
   "source": [
    "from qiskit_aer import AerSimulator\n",
    "from qiskit.result import marginal_distribution\n",
    "\n",
    "simulation = AerSimulator().run(qTelepPi8).result()\n",
    "preresults = simulation.get_counts()\n",
    "results = marginal_distribution(preresults,[2])\n",
    "display(plot_histogram(results))"
   ]
  },
  {
   "cell_type": "code",
   "execution_count": 24,
   "id": "1f403a82-7649-47f8-96c1-5751308fc240",
   "metadata": {},
   "outputs": [
    {
     "name": "stdout",
     "output_type": "stream",
     "text": [
      "Percentage of zeros:  86.9140625\n",
      "Percentage of ones:  13.0859375\n"
     ]
    }
   ],
   "source": [
    "res0 = results['0']\n",
    "res1 = results['1']\n",
    "total = res0+res1 # == 2**10\n",
    "print('Percentage of zeros: ',res0*100/total)\n",
    "print('Percentage of ones: ',res1*100/total)\n"
   ]
  },
  {
   "cell_type": "markdown",
   "id": "ef761803-4bf1-4dac-9222-a3cae3724ed1",
   "metadata": {},
   "source": [
    "This is pretty close to the 85% to 15% split we expected, so it seems the teleportation has worked.\n"
   ]
  }
 ],
 "metadata": {
  "kernelspec": {
   "display_name": "Python 3 (ipykernel)",
   "language": "python",
   "name": "python3"
  },
  "language_info": {
   "codemirror_mode": {
    "name": "ipython",
    "version": 3
   },
   "file_extension": ".py",
   "mimetype": "text/x-python",
   "name": "python",
   "nbconvert_exporter": "python",
   "pygments_lexer": "ipython3",
   "version": "3.13.7"
  }
 },
 "nbformat": 4,
 "nbformat_minor": 5
}
